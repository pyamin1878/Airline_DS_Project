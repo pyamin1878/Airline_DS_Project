{
 "cells": [
  {
   "cell_type": "markdown",
   "metadata": {},
   "source": [
    "# Markdown"
   ]
  },
  {
   "cell_type": "markdown",
   "metadata": {},
   "source": [
    "# Load in Data"
   ]
  },
  {
   "cell_type": "code",
   "execution_count": 1,
   "metadata": {},
   "outputs": [
    {
     "data": {
      "text/html": [
       "<div>\n",
       "<style scoped>\n",
       "    .dataframe tbody tr th:only-of-type {\n",
       "        vertical-align: middle;\n",
       "    }\n",
       "\n",
       "    .dataframe tbody tr th {\n",
       "        vertical-align: top;\n",
       "    }\n",
       "\n",
       "    .dataframe thead th {\n",
       "        text-align: right;\n",
       "    }\n",
       "</style>\n",
       "<table border=\"1\" class=\"dataframe\">\n",
       "  <thead>\n",
       "    <tr style=\"text-align: right;\">\n",
       "      <th></th>\n",
       "      <th>Event.Id</th>\n",
       "      <th>Investigation.Type</th>\n",
       "      <th>Accident.Number</th>\n",
       "      <th>Event.Date</th>\n",
       "      <th>Location</th>\n",
       "      <th>Country</th>\n",
       "      <th>Latitude</th>\n",
       "      <th>Longitude</th>\n",
       "      <th>Airport.Code</th>\n",
       "      <th>Airport.Name</th>\n",
       "      <th>...</th>\n",
       "      <th>Purpose.of.flight</th>\n",
       "      <th>Air.carrier</th>\n",
       "      <th>Total.Fatal.Injuries</th>\n",
       "      <th>Total.Serious.Injuries</th>\n",
       "      <th>Total.Minor.Injuries</th>\n",
       "      <th>Total.Uninjured</th>\n",
       "      <th>Weather.Condition</th>\n",
       "      <th>Broad.phase.of.flight</th>\n",
       "      <th>Report.Status</th>\n",
       "      <th>Publication.Date</th>\n",
       "    </tr>\n",
       "  </thead>\n",
       "  <tbody>\n",
       "    <tr>\n",
       "      <th>0</th>\n",
       "      <td>20001218X45444</td>\n",
       "      <td>Accident</td>\n",
       "      <td>SEA87LA080</td>\n",
       "      <td>1948-10-24</td>\n",
       "      <td>MOOSE CREEK, ID</td>\n",
       "      <td>United States</td>\n",
       "      <td>NaN</td>\n",
       "      <td>NaN</td>\n",
       "      <td>NaN</td>\n",
       "      <td>NaN</td>\n",
       "      <td>...</td>\n",
       "      <td>Personal</td>\n",
       "      <td>NaN</td>\n",
       "      <td>2.0</td>\n",
       "      <td>0.0</td>\n",
       "      <td>0.0</td>\n",
       "      <td>0.0</td>\n",
       "      <td>UNK</td>\n",
       "      <td>Cruise</td>\n",
       "      <td>Probable Cause</td>\n",
       "      <td>NaT</td>\n",
       "    </tr>\n",
       "    <tr>\n",
       "      <th>1</th>\n",
       "      <td>20001218X45447</td>\n",
       "      <td>Accident</td>\n",
       "      <td>LAX94LA336</td>\n",
       "      <td>1962-07-19</td>\n",
       "      <td>BRIDGEPORT, CA</td>\n",
       "      <td>United States</td>\n",
       "      <td>NaN</td>\n",
       "      <td>NaN</td>\n",
       "      <td>NaN</td>\n",
       "      <td>NaN</td>\n",
       "      <td>...</td>\n",
       "      <td>Personal</td>\n",
       "      <td>NaN</td>\n",
       "      <td>4.0</td>\n",
       "      <td>0.0</td>\n",
       "      <td>0.0</td>\n",
       "      <td>0.0</td>\n",
       "      <td>UNK</td>\n",
       "      <td>Unknown</td>\n",
       "      <td>Probable Cause</td>\n",
       "      <td>1996-09-19</td>\n",
       "    </tr>\n",
       "    <tr>\n",
       "      <th>2</th>\n",
       "      <td>20061025X01555</td>\n",
       "      <td>Accident</td>\n",
       "      <td>NYC07LA005</td>\n",
       "      <td>1974-08-30</td>\n",
       "      <td>Saltville, VA</td>\n",
       "      <td>United States</td>\n",
       "      <td>36.922223</td>\n",
       "      <td>-81.878056</td>\n",
       "      <td>NaN</td>\n",
       "      <td>NaN</td>\n",
       "      <td>...</td>\n",
       "      <td>Personal</td>\n",
       "      <td>NaN</td>\n",
       "      <td>3.0</td>\n",
       "      <td>NaN</td>\n",
       "      <td>NaN</td>\n",
       "      <td>NaN</td>\n",
       "      <td>IMC</td>\n",
       "      <td>Cruise</td>\n",
       "      <td>Probable Cause</td>\n",
       "      <td>2007-02-26</td>\n",
       "    </tr>\n",
       "    <tr>\n",
       "      <th>3</th>\n",
       "      <td>20001218X45448</td>\n",
       "      <td>Accident</td>\n",
       "      <td>LAX96LA321</td>\n",
       "      <td>1977-06-19</td>\n",
       "      <td>EUREKA, CA</td>\n",
       "      <td>United States</td>\n",
       "      <td>NaN</td>\n",
       "      <td>NaN</td>\n",
       "      <td>NaN</td>\n",
       "      <td>NaN</td>\n",
       "      <td>...</td>\n",
       "      <td>Personal</td>\n",
       "      <td>NaN</td>\n",
       "      <td>2.0</td>\n",
       "      <td>0.0</td>\n",
       "      <td>0.0</td>\n",
       "      <td>0.0</td>\n",
       "      <td>IMC</td>\n",
       "      <td>Cruise</td>\n",
       "      <td>Probable Cause</td>\n",
       "      <td>2000-12-09</td>\n",
       "    </tr>\n",
       "    <tr>\n",
       "      <th>4</th>\n",
       "      <td>20041105X01764</td>\n",
       "      <td>Accident</td>\n",
       "      <td>CHI79FA064</td>\n",
       "      <td>1979-08-02</td>\n",
       "      <td>Canton, OH</td>\n",
       "      <td>United States</td>\n",
       "      <td>NaN</td>\n",
       "      <td>NaN</td>\n",
       "      <td>NaN</td>\n",
       "      <td>NaN</td>\n",
       "      <td>...</td>\n",
       "      <td>Personal</td>\n",
       "      <td>NaN</td>\n",
       "      <td>1.0</td>\n",
       "      <td>2.0</td>\n",
       "      <td>NaN</td>\n",
       "      <td>0.0</td>\n",
       "      <td>VMC</td>\n",
       "      <td>Approach</td>\n",
       "      <td>Probable Cause</td>\n",
       "      <td>1980-04-16</td>\n",
       "    </tr>\n",
       "  </tbody>\n",
       "</table>\n",
       "<p>5 rows × 31 columns</p>\n",
       "</div>"
      ],
      "text/plain": [
       "         Event.Id Investigation.Type Accident.Number Event.Date  \\\n",
       "0  20001218X45444           Accident      SEA87LA080 1948-10-24   \n",
       "1  20001218X45447           Accident      LAX94LA336 1962-07-19   \n",
       "2  20061025X01555           Accident      NYC07LA005 1974-08-30   \n",
       "3  20001218X45448           Accident      LAX96LA321 1977-06-19   \n",
       "4  20041105X01764           Accident      CHI79FA064 1979-08-02   \n",
       "\n",
       "          Location        Country   Latitude   Longitude Airport.Code  \\\n",
       "0  MOOSE CREEK, ID  United States        NaN         NaN          NaN   \n",
       "1   BRIDGEPORT, CA  United States        NaN         NaN          NaN   \n",
       "2    Saltville, VA  United States  36.922223  -81.878056          NaN   \n",
       "3       EUREKA, CA  United States        NaN         NaN          NaN   \n",
       "4       Canton, OH  United States        NaN         NaN          NaN   \n",
       "\n",
       "  Airport.Name  ... Purpose.of.flight Air.carrier Total.Fatal.Injuries  \\\n",
       "0          NaN  ...          Personal         NaN                  2.0   \n",
       "1          NaN  ...          Personal         NaN                  4.0   \n",
       "2          NaN  ...          Personal         NaN                  3.0   \n",
       "3          NaN  ...          Personal         NaN                  2.0   \n",
       "4          NaN  ...          Personal         NaN                  1.0   \n",
       "\n",
       "  Total.Serious.Injuries Total.Minor.Injuries Total.Uninjured  \\\n",
       "0                    0.0                  0.0             0.0   \n",
       "1                    0.0                  0.0             0.0   \n",
       "2                    NaN                  NaN             NaN   \n",
       "3                    0.0                  0.0             0.0   \n",
       "4                    2.0                  NaN             0.0   \n",
       "\n",
       "  Weather.Condition Broad.phase.of.flight   Report.Status Publication.Date  \n",
       "0               UNK                Cruise  Probable Cause              NaT  \n",
       "1               UNK               Unknown  Probable Cause       1996-09-19  \n",
       "2               IMC                Cruise  Probable Cause       2007-02-26  \n",
       "3               IMC                Cruise  Probable Cause       2000-12-09  \n",
       "4               VMC              Approach  Probable Cause       1980-04-16  \n",
       "\n",
       "[5 rows x 31 columns]"
      ]
     },
     "execution_count": 1,
     "metadata": {},
     "output_type": "execute_result"
    }
   ],
   "source": [
    "# Load in data\n",
    "import pandas as pd\n",
    "df = pd.read_csv('../Data/Aviation_Data.csv', dtype=object,  parse_dates=['Event.Date', 'Publication.Date'])\n",
    "df.head()"
   ]
  },
  {
   "cell_type": "markdown",
   "metadata": {},
   "source": [
    "# Data Description"
   ]
  },
  {
   "cell_type": "code",
   "execution_count": 2,
   "metadata": {},
   "outputs": [
    {
     "data": {
      "text/plain": [
       "(90348, 31)"
      ]
     },
     "execution_count": 2,
     "metadata": {},
     "output_type": "execute_result"
    }
   ],
   "source": [
    "df.shape"
   ]
  },
  {
   "cell_type": "code",
   "execution_count": 3,
   "metadata": {},
   "outputs": [
    {
     "data": {
      "text/html": [
       "<div>\n",
       "<style scoped>\n",
       "    .dataframe tbody tr th:only-of-type {\n",
       "        vertical-align: middle;\n",
       "    }\n",
       "\n",
       "    .dataframe tbody tr th {\n",
       "        vertical-align: top;\n",
       "    }\n",
       "\n",
       "    .dataframe thead th {\n",
       "        text-align: right;\n",
       "    }\n",
       "</style>\n",
       "<table border=\"1\" class=\"dataframe\">\n",
       "  <thead>\n",
       "    <tr style=\"text-align: right;\">\n",
       "      <th></th>\n",
       "      <th>Event.Date</th>\n",
       "      <th>Publication.Date</th>\n",
       "    </tr>\n",
       "  </thead>\n",
       "  <tbody>\n",
       "    <tr>\n",
       "      <th>count</th>\n",
       "      <td>88889</td>\n",
       "      <td>73659</td>\n",
       "    </tr>\n",
       "    <tr>\n",
       "      <th>mean</th>\n",
       "      <td>1999-09-17 17:13:39.354475904</td>\n",
       "      <td>2004-05-01 19:38:20.932676224</td>\n",
       "    </tr>\n",
       "    <tr>\n",
       "      <th>min</th>\n",
       "      <td>1948-10-24 00:00:00</td>\n",
       "      <td>1980-04-16 00:00:00</td>\n",
       "    </tr>\n",
       "    <tr>\n",
       "      <th>25%</th>\n",
       "      <td>1989-01-15 00:00:00</td>\n",
       "      <td>1993-09-14 00:00:00</td>\n",
       "    </tr>\n",
       "    <tr>\n",
       "      <th>50%</th>\n",
       "      <td>1998-07-18 00:00:00</td>\n",
       "      <td>2001-10-07 00:00:00</td>\n",
       "    </tr>\n",
       "    <tr>\n",
       "      <th>75%</th>\n",
       "      <td>2009-07-01 00:00:00</td>\n",
       "      <td>2020-09-25 00:00:00</td>\n",
       "    </tr>\n",
       "    <tr>\n",
       "      <th>max</th>\n",
       "      <td>2022-12-29 00:00:00</td>\n",
       "      <td>2022-12-30 00:00:00</td>\n",
       "    </tr>\n",
       "  </tbody>\n",
       "</table>\n",
       "</div>"
      ],
      "text/plain": [
       "                          Event.Date               Publication.Date\n",
       "count                          88889                          73659\n",
       "mean   1999-09-17 17:13:39.354475904  2004-05-01 19:38:20.932676224\n",
       "min              1948-10-24 00:00:00            1980-04-16 00:00:00\n",
       "25%              1989-01-15 00:00:00            1993-09-14 00:00:00\n",
       "50%              1998-07-18 00:00:00            2001-10-07 00:00:00\n",
       "75%              2009-07-01 00:00:00            2020-09-25 00:00:00\n",
       "max              2022-12-29 00:00:00            2022-12-30 00:00:00"
      ]
     },
     "execution_count": 3,
     "metadata": {},
     "output_type": "execute_result"
    }
   ],
   "source": [
    "df.describe(datetime_is_numeric=True)"
   ]
  },
  {
   "cell_type": "code",
   "execution_count": 4,
   "metadata": {},
   "outputs": [
    {
     "name": "stdout",
     "output_type": "stream",
     "text": [
      "<class 'pandas.core.frame.DataFrame'>\n",
      "RangeIndex: 90348 entries, 0 to 90347\n",
      "Data columns (total 31 columns):\n",
      " #   Column                  Non-Null Count  Dtype         \n",
      "---  ------                  --------------  -----         \n",
      " 0   Event.Id                88889 non-null  object        \n",
      " 1   Investigation.Type      90348 non-null  object        \n",
      " 2   Accident.Number         88889 non-null  object        \n",
      " 3   Event.Date              88889 non-null  datetime64[ns]\n",
      " 4   Location                88837 non-null  object        \n",
      " 5   Country                 88663 non-null  object        \n",
      " 6   Latitude                34382 non-null  object        \n",
      " 7   Longitude               34373 non-null  object        \n",
      " 8   Airport.Code            50249 non-null  object        \n",
      " 9   Airport.Name            52790 non-null  object        \n",
      " 10  Injury.Severity         87889 non-null  object        \n",
      " 11  Aircraft.damage         85695 non-null  object        \n",
      " 12  Aircraft.Category       32287 non-null  object        \n",
      " 13  Registration.Number     87572 non-null  object        \n",
      " 14  Make                    88826 non-null  object        \n",
      " 15  Model                   88797 non-null  object        \n",
      " 16  Amateur.Built           88787 non-null  object        \n",
      " 17  Number.of.Engines       82805 non-null  object        \n",
      " 18  Engine.Type             81812 non-null  object        \n",
      " 19  FAR.Description         32023 non-null  object        \n",
      " 20  Schedule                12582 non-null  object        \n",
      " 21  Purpose.of.flight       82697 non-null  object        \n",
      " 22  Air.carrier             16648 non-null  object        \n",
      " 23  Total.Fatal.Injuries    77488 non-null  object        \n",
      " 24  Total.Serious.Injuries  76379 non-null  object        \n",
      " 25  Total.Minor.Injuries    76956 non-null  object        \n",
      " 26  Total.Uninjured         82977 non-null  object        \n",
      " 27  Weather.Condition       84397 non-null  object        \n",
      " 28  Broad.phase.of.flight   61724 non-null  object        \n",
      " 29  Report.Status           82508 non-null  object        \n",
      " 30  Publication.Date        73659 non-null  datetime64[ns]\n",
      "dtypes: datetime64[ns](2), object(29)\n",
      "memory usage: 21.4+ MB\n"
     ]
    }
   ],
   "source": [
    "df.info()"
   ]
  },
  {
   "cell_type": "code",
   "execution_count": 5,
   "metadata": {},
   "outputs": [
    {
     "data": {
      "text/plain": [
       "Event.Id                   1459\n",
       "Investigation.Type            0\n",
       "Accident.Number            1459\n",
       "Event.Date                 1459\n",
       "Location                   1511\n",
       "Country                    1685\n",
       "Latitude                  55966\n",
       "Longitude                 55975\n",
       "Airport.Code              40099\n",
       "Airport.Name              37558\n",
       "Injury.Severity            2459\n",
       "Aircraft.damage            4653\n",
       "Aircraft.Category         58061\n",
       "Registration.Number        2776\n",
       "Make                       1522\n",
       "Model                      1551\n",
       "Amateur.Built              1561\n",
       "Number.of.Engines          7543\n",
       "Engine.Type                8536\n",
       "FAR.Description           58325\n",
       "Schedule                  77766\n",
       "Purpose.of.flight          7651\n",
       "Air.carrier               73700\n",
       "Total.Fatal.Injuries      12860\n",
       "Total.Serious.Injuries    13969\n",
       "Total.Minor.Injuries      13392\n",
       "Total.Uninjured            7371\n",
       "Weather.Condition          5951\n",
       "Broad.phase.of.flight     28624\n",
       "Report.Status              7840\n",
       "Publication.Date          16689\n",
       "dtype: int64"
      ]
     },
     "execution_count": 5,
     "metadata": {},
     "output_type": "execute_result"
    }
   ],
   "source": [
    "df.isna().sum()"
   ]
  },
  {
   "cell_type": "code",
   "execution_count": 6,
   "metadata": {},
   "outputs": [
    {
     "data": {
      "text/plain": [
       "Pilot                                    258\n",
       "American Airlines                         90\n",
       "United Airlines                           89\n",
       "Delta Air Lines                           53\n",
       "SOUTHWEST AIRLINES CO                     42\n",
       "                                        ... \n",
       "POINT OF VIEW HELICOPTER SERVICES LLC      1\n",
       "Tris D. Germain                            1\n",
       "Bernard W. Gomez                           1\n",
       "PARKER LARRY                               1\n",
       "Harvey W. Kiniken, Jr                      1\n",
       "Name: Air.carrier, Length: 13590, dtype: int64"
      ]
     },
     "execution_count": 6,
     "metadata": {},
     "output_type": "execute_result"
    }
   ],
   "source": [
    "df['Air.carrier'].value_counts()"
   ]
  },
  {
   "cell_type": "code",
   "execution_count": 7,
   "metadata": {},
   "outputs": [
    {
     "data": {
      "text/plain": [
       "Personal                     49448\n",
       "Instructional                10601\n",
       "Unknown                       6802\n",
       "Aerial Application            4712\n",
       "Business                      4018\n",
       "Positioning                   1646\n",
       "Other Work Use                1264\n",
       "Ferry                          812\n",
       "Aerial Observation             794\n",
       "Public Aircraft                720\n",
       "Executive/corporate            553\n",
       "Flight Test                    405\n",
       "Skydiving                      182\n",
       "External Load                  123\n",
       "Public Aircraft - Federal      105\n",
       "Banner Tow                     101\n",
       "Air Race show                   99\n",
       "Public Aircraft - Local         74\n",
       "Public Aircraft - State         64\n",
       "Air Race/show                   59\n",
       "Glider Tow                      53\n",
       "Firefighting                    40\n",
       "Air Drop                        11\n",
       "ASHO                             6\n",
       "PUBS                             4\n",
       "PUBL                             1\n",
       "Name: Purpose.of.flight, dtype: int64"
      ]
     },
     "execution_count": 7,
     "metadata": {},
     "output_type": "execute_result"
    }
   ],
   "source": [
    "df['Purpose.of.flight'].value_counts()"
   ]
  },
  {
   "cell_type": "code",
   "execution_count": 8,
   "metadata": {},
   "outputs": [
    {
     "data": {
      "text/plain": [
       "091                               18221\n",
       "Part 91: General Aviation          6486\n",
       "NUSN                               1584\n",
       "NUSC                               1013\n",
       "137                                1010\n",
       "135                                 746\n",
       "121                                 679\n",
       "Part 137: Agricultural              437\n",
       "UNK                                 371\n",
       "Part 135: Air Taxi & Commuter       298\n",
       "PUBU                                253\n",
       "129                                 246\n",
       "Part 121: Air Carrier               165\n",
       "133                                 107\n",
       "Part 129: Foreign                   100\n",
       "Non-U.S., Non-Commercial             97\n",
       "Non-U.S., Commercial                 93\n",
       "Part 133: Rotorcraft Ext. Load       32\n",
       "Unknown                              22\n",
       "Public Use                           19\n",
       "091K                                 14\n",
       "ARMF                                  8\n",
       "125                                   5\n",
       "Part 125: 20+ Pax,6000+ lbs           5\n",
       "107                                   4\n",
       "Public Aircraft                       2\n",
       "103                                   2\n",
       "Armed Forces                          1\n",
       "Part 91 Subpart K: Fractional         1\n",
       "Part 91F: Special Flt Ops.            1\n",
       "437                                   1\n",
       "Name: FAR.Description, dtype: int64"
      ]
     },
     "execution_count": 8,
     "metadata": {},
     "output_type": "execute_result"
    }
   ],
   "source": [
    "df['FAR.Description'].value_counts()"
   ]
  },
  {
   "cell_type": "code",
   "execution_count": 9,
   "metadata": {},
   "outputs": [
    {
     "data": {
      "text/plain": [
       "NSCH    4474\n",
       "UNK     4099\n",
       "SCHD    4009\n",
       "Name: Schedule, dtype: int64"
      ]
     },
     "execution_count": 9,
     "metadata": {},
     "output_type": "execute_result"
    }
   ],
   "source": [
    "df['Schedule'].value_counts()"
   ]
  },
  {
   "cell_type": "code",
   "execution_count": 10,
   "metadata": {},
   "outputs": [
    {
     "data": {
      "text/plain": [
       "Probable Cause                                                                                                                                                                           61754\n",
       "Foreign                                                                                                                                                                                   1999\n",
       "<br /><br />                                                                                                                                                                               167\n",
       "Factual                                                                                                                                                                                    145\n",
       "The pilot's failure to maintain directional control during the landing roll.                                                                                                                58\n",
       "                                                                                                                                                                                         ...  \n",
       "The pilot's failure to maintain terrain clearance while maneuvering.  Contributing to the accident was the low altitude.                                                                     1\n",
       "The pilots failure to lower the nose landing gear in time to prevent it from slamming onto the runway and collapsing.                                                                       1\n",
       "The student pilot's loss of directional control during the landing flare in gusting wind conditions and the certified flight instructor's delayed remedial action.                           1\n",
       "The partial loss of engine power due to a fractured exhaust valve, which resulted in a forced landing on unsuitable terrain and a subsequent rollover.                                       1\n",
       "The pilot's failure to follow the air traffic controllers instructions and his subsequent failure to maintain adequate lookout to see and avoid the other airplane on the taxiway.          1\n",
       "Name: Report.Status, Length: 17007, dtype: int64"
      ]
     },
     "execution_count": 10,
     "metadata": {},
     "output_type": "execute_result"
    }
   ],
   "source": [
    "df['Report.Status'].value_counts()"
   ]
  },
  {
   "cell_type": "markdown",
   "metadata": {},
   "source": [
    "# Making Subset"
   ]
  },
  {
   "cell_type": "code",
   "execution_count": 11,
   "metadata": {},
   "outputs": [],
   "source": [
    "df_subset = df[['Event.Date', 'Location', 'Country', \n",
    "                'Aircraft.damage', 'Aircraft.Category', 'Make', 'Model', \n",
    "                'Amateur.Built', 'Engine.Type', 'FAR.Description',\n",
    "                'Total.Fatal.Injuries', 'Total.Minor.Injuries', 'Total.Uninjured', 'Total.Serious.Injuries', \n",
    "                'Weather.Condition']]\n"
   ]
  },
  {
   "cell_type": "code",
   "execution_count": 12,
   "metadata": {},
   "outputs": [],
   "source": [
    "df_subset = df_subset.rename(columns = lambda x: x.lower())"
   ]
  },
  {
   "cell_type": "code",
   "execution_count": 13,
   "metadata": {},
   "outputs": [],
   "source": [
    "# Keeping only airplanes\n",
    "df_subset = df_subset.loc[df_subset['aircraft.category'] == 'Airplane']"
   ]
  },
  {
   "cell_type": "code",
   "execution_count": 14,
   "metadata": {},
   "outputs": [],
   "source": [
    "# Keeping only non-amateur built\n",
    "df_subset = df_subset.loc[df_subset['amateur.built'] == 'No']"
   ]
  },
  {
   "cell_type": "code",
   "execution_count": 15,
   "metadata": {},
   "outputs": [],
   "source": [
    "# Dropping amateur built and aircraft category\n",
    "df_subset = df_subset[['event.date', 'location', 'country', \n",
    "                'aircraft.damage', 'make', 'model', 'total.serious.injuries',\n",
    "                'engine.type', 'total.fatal.injuries', 'total.minor.injuries', 'total.uninjured', \n",
    "                'weather.condition']]"
   ]
  },
  {
   "cell_type": "code",
   "execution_count": 16,
   "metadata": {},
   "outputs": [],
   "source": [
    "# Keeping only the year (first 4 characters) from event.date\n",
    "df_subset = df_subset.rename(columns = lambda x: x.lower())\n",
    "df_subset['event.date'] = pd.to_datetime(df_subset['event.date']).dt.year\n"
   ]
  },
  {
   "cell_type": "code",
   "execution_count": 17,
   "metadata": {},
   "outputs": [],
   "source": [
    "# Keeping only the state abbreviations from 'location' column into a new column\n",
    "df_subset['state'] = df_subset['location'].str.split(\",\").str[1]\n",
    "df_subset = df_subset.drop(columns=['location'])"
   ]
  },
  {
   "cell_type": "code",
   "execution_count": 18,
   "metadata": {},
   "outputs": [
    {
     "data": {
      "text/plain": [
       "(24417, 12)"
      ]
     },
     "execution_count": 18,
     "metadata": {},
     "output_type": "execute_result"
    }
   ],
   "source": [
    "df_subset.shape"
   ]
  },
  {
   "cell_type": "code",
   "execution_count": 19,
   "metadata": {},
   "outputs": [
    {
     "data": {
      "text/plain": [
       "event.date                   0\n",
       "country                      7\n",
       "aircraft.damage           1270\n",
       "make                         3\n",
       "model                       18\n",
       "total.serious.injuries    2846\n",
       "engine.type               3956\n",
       "total.fatal.injuries      2766\n",
       "total.minor.injuries      2562\n",
       "total.uninjured            718\n",
       "weather.condition         2979\n",
       "state                       24\n",
       "dtype: int64"
      ]
     },
     "execution_count": 19,
     "metadata": {},
     "output_type": "execute_result"
    }
   ],
   "source": [
    "df_subset.isna().sum()"
   ]
  },
  {
   "cell_type": "code",
   "execution_count": 20,
   "metadata": {},
   "outputs": [
    {
     "data": {
      "text/html": [
       "<div>\n",
       "<style scoped>\n",
       "    .dataframe tbody tr th:only-of-type {\n",
       "        vertical-align: middle;\n",
       "    }\n",
       "\n",
       "    .dataframe tbody tr th {\n",
       "        vertical-align: top;\n",
       "    }\n",
       "\n",
       "    .dataframe thead th {\n",
       "        text-align: right;\n",
       "    }\n",
       "</style>\n",
       "<table border=\"1\" class=\"dataframe\">\n",
       "  <thead>\n",
       "    <tr style=\"text-align: right;\">\n",
       "      <th></th>\n",
       "      <th>event.date</th>\n",
       "    </tr>\n",
       "  </thead>\n",
       "  <tbody>\n",
       "    <tr>\n",
       "      <th>count</th>\n",
       "      <td>24417.000000</td>\n",
       "    </tr>\n",
       "    <tr>\n",
       "      <th>mean</th>\n",
       "      <td>2009.465332</td>\n",
       "    </tr>\n",
       "    <tr>\n",
       "      <th>std</th>\n",
       "      <td>11.509243</td>\n",
       "    </tr>\n",
       "    <tr>\n",
       "      <th>min</th>\n",
       "      <td>1979.000000</td>\n",
       "    </tr>\n",
       "    <tr>\n",
       "      <th>25%</th>\n",
       "      <td>2008.000000</td>\n",
       "    </tr>\n",
       "    <tr>\n",
       "      <th>50%</th>\n",
       "      <td>2012.000000</td>\n",
       "    </tr>\n",
       "    <tr>\n",
       "      <th>75%</th>\n",
       "      <td>2017.000000</td>\n",
       "    </tr>\n",
       "    <tr>\n",
       "      <th>max</th>\n",
       "      <td>2022.000000</td>\n",
       "    </tr>\n",
       "  </tbody>\n",
       "</table>\n",
       "</div>"
      ],
      "text/plain": [
       "         event.date\n",
       "count  24417.000000\n",
       "mean    2009.465332\n",
       "std       11.509243\n",
       "min     1979.000000\n",
       "25%     2008.000000\n",
       "50%     2012.000000\n",
       "75%     2017.000000\n",
       "max     2022.000000"
      ]
     },
     "execution_count": 20,
     "metadata": {},
     "output_type": "execute_result"
    }
   ],
   "source": [
    "df_subset.describe()"
   ]
  },
  {
   "cell_type": "code",
   "execution_count": 21,
   "metadata": {},
   "outputs": [
    {
     "name": "stdout",
     "output_type": "stream",
     "text": [
      "<class 'pandas.core.frame.DataFrame'>\n",
      "Int64Index: 24417 entries, 5 to 90345\n",
      "Data columns (total 12 columns):\n",
      " #   Column                  Non-Null Count  Dtype \n",
      "---  ------                  --------------  ----- \n",
      " 0   event.date              24417 non-null  int64 \n",
      " 1   country                 24410 non-null  object\n",
      " 2   aircraft.damage         23147 non-null  object\n",
      " 3   make                    24414 non-null  object\n",
      " 4   model                   24399 non-null  object\n",
      " 5   total.serious.injuries  21571 non-null  object\n",
      " 6   engine.type             20461 non-null  object\n",
      " 7   total.fatal.injuries    21651 non-null  object\n",
      " 8   total.minor.injuries    21855 non-null  object\n",
      " 9   total.uninjured         23699 non-null  object\n",
      " 10  weather.condition       21438 non-null  object\n",
      " 11  state                   24393 non-null  object\n",
      "dtypes: int64(1), object(11)\n",
      "memory usage: 2.4+ MB\n"
     ]
    }
   ],
   "source": [
    "df_subset.info()"
   ]
  },
  {
   "cell_type": "markdown",
   "metadata": {},
   "source": [
    "# Dealing with Nulls\n"
   ]
  },
  {
   "cell_type": "code",
   "execution_count": 22,
   "metadata": {},
   "outputs": [
    {
     "data": {
      "text/plain": [
       "event.date                   0\n",
       "country                      7\n",
       "aircraft.damage           1270\n",
       "make                         3\n",
       "model                       18\n",
       "total.serious.injuries       0\n",
       "engine.type               3956\n",
       "total.fatal.injuries         0\n",
       "total.minor.injuries         0\n",
       "total.uninjured              0\n",
       "weather.condition         2979\n",
       "state                       24\n",
       "dtype: int64"
      ]
     },
     "execution_count": 22,
     "metadata": {},
     "output_type": "execute_result"
    }
   ],
   "source": [
    "# Filling the NaN's in the 4 injuries columns with 0's\n",
    "\n",
    "df_subset['total.serious.injuries'].fillna(0, inplace=True)\n",
    "df_subset['total.fatal.injuries'].fillna(0, inplace=True)\n",
    "df_subset['total.minor.injuries'].fillna(0, inplace=True)\n",
    "df_subset['total.uninjured'].fillna(0, inplace=True)\n",
    "\n",
    "df_subset.isna().sum()"
   ]
  },
  {
   "cell_type": "code",
   "execution_count": 23,
   "metadata": {},
   "outputs": [
    {
     "data": {
      "text/plain": [
       "event.date                   0\n",
       "country                      0\n",
       "aircraft.damage           1263\n",
       "make                         0\n",
       "model                        0\n",
       "total.serious.injuries       0\n",
       "engine.type               3942\n",
       "total.fatal.injuries         0\n",
       "total.minor.injuries         0\n",
       "total.uninjured              0\n",
       "weather.condition         2968\n",
       "state                        0\n",
       "dtype: int64"
      ]
     },
     "execution_count": 23,
     "metadata": {},
     "output_type": "execute_result"
    }
   ],
   "source": [
    "# Dropping rows in columns that have very few nulls\n",
    "\n",
    "df_subset2 = df_subset.dropna(subset=['country', 'make', 'model', 'state'])\n",
    "df_subset2.isna().sum()\n"
   ]
  },
  {
   "cell_type": "code",
   "execution_count": 24,
   "metadata": {},
   "outputs": [
    {
     "data": {
      "text/plain": [
       "(24374, 12)"
      ]
     },
     "execution_count": 24,
     "metadata": {},
     "output_type": "execute_result"
    }
   ],
   "source": [
    "df_subset2.shape"
   ]
  },
  {
   "cell_type": "code",
   "execution_count": 25,
   "metadata": {},
   "outputs": [
    {
     "data": {
      "text/plain": [
       "Substantial    18965\n",
       "Destroyed       3129\n",
       "Minor            920\n",
       "Unknown           97\n",
       "Name: aircraft.damage, dtype: int64"
      ]
     },
     "execution_count": 25,
     "metadata": {},
     "output_type": "execute_result"
    }
   ],
   "source": [
    "# Replacing nulls in aircraft.damage column\n",
    "df_subset2['aircraft.damage'].value_counts()"
   ]
  },
  {
   "cell_type": "code",
   "execution_count": 26,
   "metadata": {},
   "outputs": [
    {
     "name": "stderr",
     "output_type": "stream",
     "text": [
      "<ipython-input-26-4a39ce36e913>:1: SettingWithCopyWarning: \n",
      "A value is trying to be set on a copy of a slice from a DataFrame.\n",
      "Try using .loc[row_indexer,col_indexer] = value instead\n",
      "\n",
      "See the caveats in the documentation: https://pandas.pydata.org/pandas-docs/stable/user_guide/indexing.html#returning-a-view-versus-a-copy\n",
      "  df_subset2['aircraft.damage'] = df_subset2['aircraft.damage'].fillna('N/A')\n"
     ]
    }
   ],
   "source": [
    "df_subset2['aircraft.damage'] = df_subset2['aircraft.damage'].fillna('N/A')"
   ]
  },
  {
   "cell_type": "code",
   "execution_count": 27,
   "metadata": {},
   "outputs": [
    {
     "data": {
      "text/plain": [
       "event.date                   0\n",
       "country                      0\n",
       "aircraft.damage              0\n",
       "make                         0\n",
       "model                        0\n",
       "total.serious.injuries       0\n",
       "engine.type               3942\n",
       "total.fatal.injuries         0\n",
       "total.minor.injuries         0\n",
       "total.uninjured              0\n",
       "weather.condition         2968\n",
       "state                        0\n",
       "dtype: int64"
      ]
     },
     "execution_count": 27,
     "metadata": {},
     "output_type": "execute_result"
    }
   ],
   "source": [
    "df_subset2.isna().sum()"
   ]
  },
  {
   "cell_type": "code",
   "execution_count": 28,
   "metadata": {},
   "outputs": [
    {
     "data": {
      "text/plain": [
       "Reciprocating      17832\n",
       "Turbo Prop          1330\n",
       "Turbo Fan            961\n",
       "Turbo Jet            153\n",
       "Unknown              127\n",
       "Geared Turbofan       12\n",
       "Turbo Shaft           11\n",
       "Electric               5\n",
       "UNK                    1\n",
       "Name: engine.type, dtype: int64"
      ]
     },
     "execution_count": 28,
     "metadata": {},
     "output_type": "execute_result"
    }
   ],
   "source": [
    "# Replacing nulls in engine.type column\n",
    "df_subset2['engine.type'].value_counts()"
   ]
  },
  {
   "cell_type": "code",
   "execution_count": 29,
   "metadata": {},
   "outputs": [
    {
     "name": "stderr",
     "output_type": "stream",
     "text": [
      "<ipython-input-29-04cf188d3d9f>:1: SettingWithCopyWarning: \n",
      "A value is trying to be set on a copy of a slice from a DataFrame.\n",
      "Try using .loc[row_indexer,col_indexer] = value instead\n",
      "\n",
      "See the caveats in the documentation: https://pandas.pydata.org/pandas-docs/stable/user_guide/indexing.html#returning-a-view-versus-a-copy\n",
      "  df_subset2['engine.type'] = df_subset2['engine.type'].fillna('N/A')\n"
     ]
    }
   ],
   "source": [
    "df_subset2['engine.type'] = df_subset2['engine.type'].fillna('N/A')"
   ]
  },
  {
   "cell_type": "code",
   "execution_count": 30,
   "metadata": {},
   "outputs": [
    {
     "data": {
      "text/plain": [
       "event.date                   0\n",
       "country                      0\n",
       "aircraft.damage              0\n",
       "make                         0\n",
       "model                        0\n",
       "total.serious.injuries       0\n",
       "engine.type                  0\n",
       "total.fatal.injuries         0\n",
       "total.minor.injuries         0\n",
       "total.uninjured              0\n",
       "weather.condition         2968\n",
       "state                        0\n",
       "dtype: int64"
      ]
     },
     "execution_count": 30,
     "metadata": {},
     "output_type": "execute_result"
    }
   ],
   "source": [
    "df_subset2.isna().sum()"
   ]
  },
  {
   "cell_type": "code",
   "execution_count": 31,
   "metadata": {},
   "outputs": [
    {
     "data": {
      "text/plain": [
       "VMC    19690\n",
       "IMC     1361\n",
       "Unk      215\n",
       "UNK      140\n",
       "Name: weather.condition, dtype: int64"
      ]
     },
     "execution_count": 31,
     "metadata": {},
     "output_type": "execute_result"
    }
   ],
   "source": [
    "# Replacing nulls in weather.condition column\n",
    "df_subset2['weather.condition'].value_counts()\n"
   ]
  },
  {
   "cell_type": "code",
   "execution_count": 32,
   "metadata": {},
   "outputs": [
    {
     "name": "stderr",
     "output_type": "stream",
     "text": [
      "<ipython-input-32-8d667e457855>:1: SettingWithCopyWarning: \n",
      "A value is trying to be set on a copy of a slice from a DataFrame.\n",
      "Try using .loc[row_indexer,col_indexer] = value instead\n",
      "\n",
      "See the caveats in the documentation: https://pandas.pydata.org/pandas-docs/stable/user_guide/indexing.html#returning-a-view-versus-a-copy\n",
      "  df_subset2['weather.condition'] = df_subset2['weather.condition'].fillna('N/A')\n"
     ]
    }
   ],
   "source": [
    "df_subset2['weather.condition'] = df_subset2['weather.condition'].fillna('N/A')"
   ]
  },
  {
   "cell_type": "code",
   "execution_count": 33,
   "metadata": {},
   "outputs": [
    {
     "data": {
      "text/plain": [
       "event.date                0\n",
       "country                   0\n",
       "aircraft.damage           0\n",
       "make                      0\n",
       "model                     0\n",
       "total.serious.injuries    0\n",
       "engine.type               0\n",
       "total.fatal.injuries      0\n",
       "total.minor.injuries      0\n",
       "total.uninjured           0\n",
       "weather.condition         0\n",
       "state                     0\n",
       "dtype: int64"
      ]
     },
     "execution_count": 33,
     "metadata": {},
     "output_type": "execute_result"
    }
   ],
   "source": [
    "df_subset2.isna().sum()"
   ]
  },
  {
   "cell_type": "code",
   "execution_count": null,
   "metadata": {},
   "outputs": [],
   "source": []
  },
  {
   "cell_type": "markdown",
   "metadata": {},
   "source": []
  },
  {
   "cell_type": "markdown",
   "metadata": {},
   "source": [
    "# Changing str columns to int columns"
   ]
  },
  {
   "cell_type": "code",
   "execution_count": 34,
   "metadata": {},
   "outputs": [
    {
     "data": {
      "text/plain": [
       "event.date                 int64\n",
       "country                   object\n",
       "aircraft.damage           object\n",
       "make                      object\n",
       "model                     object\n",
       "total.serious.injuries    object\n",
       "engine.type               object\n",
       "total.fatal.injuries      object\n",
       "total.minor.injuries      object\n",
       "total.uninjured           object\n",
       "weather.condition         object\n",
       "state                     object\n",
       "dtype: object"
      ]
     },
     "execution_count": 34,
     "metadata": {},
     "output_type": "execute_result"
    }
   ],
   "source": [
    "df_subset2.dtypes"
   ]
  },
  {
   "cell_type": "code",
   "execution_count": 35,
   "metadata": {},
   "outputs": [
    {
     "name": "stderr",
     "output_type": "stream",
     "text": [
      "<ipython-input-35-a134da337d69>:1: SettingWithCopyWarning: \n",
      "A value is trying to be set on a copy of a slice from a DataFrame.\n",
      "Try using .loc[row_indexer,col_indexer] = value instead\n",
      "\n",
      "See the caveats in the documentation: https://pandas.pydata.org/pandas-docs/stable/user_guide/indexing.html#returning-a-view-versus-a-copy\n",
      "  df_subset2['total.serious.injuries'] = df_subset2['total.serious.injuries'].values.astype(float).astype(int)\n",
      "<ipython-input-35-a134da337d69>:2: SettingWithCopyWarning: \n",
      "A value is trying to be set on a copy of a slice from a DataFrame.\n",
      "Try using .loc[row_indexer,col_indexer] = value instead\n",
      "\n",
      "See the caveats in the documentation: https://pandas.pydata.org/pandas-docs/stable/user_guide/indexing.html#returning-a-view-versus-a-copy\n",
      "  df_subset2['total.fatal.injuries'] = df_subset2['total.fatal.injuries'].values.astype(float).astype(int)\n",
      "<ipython-input-35-a134da337d69>:3: SettingWithCopyWarning: \n",
      "A value is trying to be set on a copy of a slice from a DataFrame.\n",
      "Try using .loc[row_indexer,col_indexer] = value instead\n",
      "\n",
      "See the caveats in the documentation: https://pandas.pydata.org/pandas-docs/stable/user_guide/indexing.html#returning-a-view-versus-a-copy\n",
      "  df_subset2['total.minor.injuries'] = df_subset2['total.minor.injuries'].values.astype(float).astype(int)\n",
      "<ipython-input-35-a134da337d69>:4: SettingWithCopyWarning: \n",
      "A value is trying to be set on a copy of a slice from a DataFrame.\n",
      "Try using .loc[row_indexer,col_indexer] = value instead\n",
      "\n",
      "See the caveats in the documentation: https://pandas.pydata.org/pandas-docs/stable/user_guide/indexing.html#returning-a-view-versus-a-copy\n",
      "  df_subset2['total.uninjured'] = df_subset2['total.uninjured'].values.astype(float).astype(int)\n"
     ]
    }
   ],
   "source": [
    "df_subset2['total.serious.injuries'] = df_subset2['total.serious.injuries'].values.astype(float).astype(int)\n",
    "df_subset2['total.fatal.injuries'] = df_subset2['total.fatal.injuries'].values.astype(float).astype(int)\n",
    "df_subset2['total.minor.injuries'] = df_subset2['total.minor.injuries'].values.astype(float).astype(int)\n",
    "df_subset2['total.uninjured'] = df_subset2['total.uninjured'].values.astype(float).astype(int)"
   ]
  },
  {
   "cell_type": "code",
   "execution_count": 36,
   "metadata": {},
   "outputs": [
    {
     "data": {
      "text/plain": [
       "event.date                 int64\n",
       "country                   object\n",
       "aircraft.damage           object\n",
       "make                      object\n",
       "model                     object\n",
       "total.serious.injuries     int64\n",
       "engine.type               object\n",
       "total.fatal.injuries       int64\n",
       "total.minor.injuries       int64\n",
       "total.uninjured            int64\n",
       "weather.condition         object\n",
       "state                     object\n",
       "dtype: object"
      ]
     },
     "execution_count": 36,
     "metadata": {},
     "output_type": "execute_result"
    }
   ],
   "source": [
    "df_subset2.dtypes"
   ]
  },
  {
   "cell_type": "code",
   "execution_count": null,
   "metadata": {},
   "outputs": [],
   "source": []
  },
  {
   "cell_type": "code",
   "execution_count": null,
   "metadata": {},
   "outputs": [],
   "source": []
  },
  {
   "cell_type": "markdown",
   "metadata": {},
   "source": [
    "# Making new columns for calculations"
   ]
  },
  {
   "cell_type": "code",
   "execution_count": 37,
   "metadata": {},
   "outputs": [
    {
     "name": "stderr",
     "output_type": "stream",
     "text": [
      "<ipython-input-37-d9984a393922>:2: SettingWithCopyWarning: \n",
      "A value is trying to be set on a copy of a slice from a DataFrame.\n",
      "Try using .loc[row_indexer,col_indexer] = value instead\n",
      "\n",
      "See the caveats in the documentation: https://pandas.pydata.org/pandas-docs/stable/user_guide/indexing.html#returning-a-view-versus-a-copy\n",
      "  df_subset2['fatal.injuries.perc'] = round(((df_subset2['total.fatal.injuries'] / (df_subset2['total.fatal.injuries'] +\n",
      "<ipython-input-37-d9984a393922>:6: SettingWithCopyWarning: \n",
      "A value is trying to be set on a copy of a slice from a DataFrame.\n",
      "Try using .loc[row_indexer,col_indexer] = value instead\n",
      "\n",
      "See the caveats in the documentation: https://pandas.pydata.org/pandas-docs/stable/user_guide/indexing.html#returning-a-view-versus-a-copy\n",
      "  df_subset2['serious.injuries.perc'] = round(((df_subset2['total.serious.injuries'] / (df_subset2['total.fatal.injuries'] +\n",
      "<ipython-input-37-d9984a393922>:10: SettingWithCopyWarning: \n",
      "A value is trying to be set on a copy of a slice from a DataFrame.\n",
      "Try using .loc[row_indexer,col_indexer] = value instead\n",
      "\n",
      "See the caveats in the documentation: https://pandas.pydata.org/pandas-docs/stable/user_guide/indexing.html#returning-a-view-versus-a-copy\n",
      "  df_subset2['minor.injuries.perc'] = round(((df_subset2['total.minor.injuries'] / (df_subset2['total.fatal.injuries'] +\n",
      "<ipython-input-37-d9984a393922>:14: SettingWithCopyWarning: \n",
      "A value is trying to be set on a copy of a slice from a DataFrame.\n",
      "Try using .loc[row_indexer,col_indexer] = value instead\n",
      "\n",
      "See the caveats in the documentation: https://pandas.pydata.org/pandas-docs/stable/user_guide/indexing.html#returning-a-view-versus-a-copy\n",
      "  df_subset2['uninjured.injuries.perc'] = round(((df_subset2['total.uninjured'] / (df_subset2['total.fatal.injuries'] +\n"
     ]
    }
   ],
   "source": [
    "# Turning injury columns into percentage of total passengers\n",
    "df_subset2['fatal.injuries.perc'] = round(((df_subset2['total.fatal.injuries'] / (df_subset2['total.fatal.injuries'] + \n",
    "                                                                             df_subset2['total.minor.injuries'] + \n",
    "                                                                             df_subset2['total.serious.injuries'] + \n",
    "                                                                             df_subset2['total.uninjured'])) * 100), 1)\n",
    "df_subset2['serious.injuries.perc'] = round(((df_subset2['total.serious.injuries'] / (df_subset2['total.fatal.injuries'] + \n",
    "                                                                             df_subset2['total.minor.injuries'] + \n",
    "                                                                             df_subset2['total.serious.injuries'] + \n",
    "                                                                             df_subset2['total.uninjured'])) * 100), 1)\n",
    "df_subset2['minor.injuries.perc'] = round(((df_subset2['total.minor.injuries'] / (df_subset2['total.fatal.injuries'] + \n",
    "                                                                             df_subset2['total.minor.injuries'] + \n",
    "                                                                             df_subset2['total.serious.injuries'] + \n",
    "                                                                             df_subset2['total.uninjured'])) * 100), 1)\n",
    "df_subset2['uninjured.injuries.perc'] = round(((df_subset2['total.uninjured'] / (df_subset2['total.fatal.injuries'] + \n",
    "                                                                             df_subset2['total.minor.injuries'] + \n",
    "                                                                             df_subset2['total.serious.injuries'] + \n",
    "                                                                             df_subset2['total.uninjured'])) * 100), 1)"
   ]
  },
  {
   "cell_type": "code",
   "execution_count": 38,
   "metadata": {},
   "outputs": [
    {
     "data": {
      "text/html": [
       "<div>\n",
       "<style scoped>\n",
       "    .dataframe tbody tr th:only-of-type {\n",
       "        vertical-align: middle;\n",
       "    }\n",
       "\n",
       "    .dataframe tbody tr th {\n",
       "        vertical-align: top;\n",
       "    }\n",
       "\n",
       "    .dataframe thead th {\n",
       "        text-align: right;\n",
       "    }\n",
       "</style>\n",
       "<table border=\"1\" class=\"dataframe\">\n",
       "  <thead>\n",
       "    <tr style=\"text-align: right;\">\n",
       "      <th></th>\n",
       "      <th>event.date</th>\n",
       "      <th>country</th>\n",
       "      <th>aircraft.damage</th>\n",
       "      <th>make</th>\n",
       "      <th>model</th>\n",
       "      <th>total.serious.injuries</th>\n",
       "      <th>engine.type</th>\n",
       "      <th>total.fatal.injuries</th>\n",
       "      <th>total.minor.injuries</th>\n",
       "      <th>total.uninjured</th>\n",
       "      <th>weather.condition</th>\n",
       "      <th>state</th>\n",
       "      <th>fatal.injuries.perc</th>\n",
       "      <th>serious.injuries.perc</th>\n",
       "      <th>minor.injuries.perc</th>\n",
       "      <th>uninjured.injuries.perc</th>\n",
       "    </tr>\n",
       "  </thead>\n",
       "  <tbody>\n",
       "    <tr>\n",
       "      <th>5</th>\n",
       "      <td>1979</td>\n",
       "      <td>United States</td>\n",
       "      <td>Substantial</td>\n",
       "      <td>Mcdonnell Douglas</td>\n",
       "      <td>DC9</td>\n",
       "      <td>0</td>\n",
       "      <td>Turbo Fan</td>\n",
       "      <td>0</td>\n",
       "      <td>1</td>\n",
       "      <td>44</td>\n",
       "      <td>VMC</td>\n",
       "      <td>MA</td>\n",
       "      <td>0.0</td>\n",
       "      <td>0.0</td>\n",
       "      <td>2.2</td>\n",
       "      <td>97.8</td>\n",
       "    </tr>\n",
       "    <tr>\n",
       "      <th>7</th>\n",
       "      <td>1982</td>\n",
       "      <td>United States</td>\n",
       "      <td>Substantial</td>\n",
       "      <td>Cessna</td>\n",
       "      <td>140</td>\n",
       "      <td>0</td>\n",
       "      <td>Reciprocating</td>\n",
       "      <td>0</td>\n",
       "      <td>0</td>\n",
       "      <td>2</td>\n",
       "      <td>VMC</td>\n",
       "      <td>WA</td>\n",
       "      <td>0.0</td>\n",
       "      <td>0.0</td>\n",
       "      <td>0.0</td>\n",
       "      <td>100.0</td>\n",
       "    </tr>\n",
       "    <tr>\n",
       "      <th>8</th>\n",
       "      <td>1982</td>\n",
       "      <td>United States</td>\n",
       "      <td>Substantial</td>\n",
       "      <td>Cessna</td>\n",
       "      <td>401B</td>\n",
       "      <td>0</td>\n",
       "      <td>Reciprocating</td>\n",
       "      <td>0</td>\n",
       "      <td>0</td>\n",
       "      <td>2</td>\n",
       "      <td>IMC</td>\n",
       "      <td>NJ</td>\n",
       "      <td>0.0</td>\n",
       "      <td>0.0</td>\n",
       "      <td>0.0</td>\n",
       "      <td>100.0</td>\n",
       "    </tr>\n",
       "    <tr>\n",
       "      <th>12</th>\n",
       "      <td>1982</td>\n",
       "      <td>United States</td>\n",
       "      <td>Destroyed</td>\n",
       "      <td>Bellanca</td>\n",
       "      <td>17-30A</td>\n",
       "      <td>0</td>\n",
       "      <td>Reciprocating</td>\n",
       "      <td>0</td>\n",
       "      <td>1</td>\n",
       "      <td>0</td>\n",
       "      <td>IMC</td>\n",
       "      <td>LA</td>\n",
       "      <td>0.0</td>\n",
       "      <td>0.0</td>\n",
       "      <td>100.0</td>\n",
       "      <td>0.0</td>\n",
       "    </tr>\n",
       "    <tr>\n",
       "      <th>13</th>\n",
       "      <td>1982</td>\n",
       "      <td>United States</td>\n",
       "      <td>Destroyed</td>\n",
       "      <td>Cessna</td>\n",
       "      <td>R172K</td>\n",
       "      <td>0</td>\n",
       "      <td>Reciprocating</td>\n",
       "      <td>1</td>\n",
       "      <td>0</td>\n",
       "      <td>0</td>\n",
       "      <td>IMC</td>\n",
       "      <td>TX</td>\n",
       "      <td>100.0</td>\n",
       "      <td>0.0</td>\n",
       "      <td>0.0</td>\n",
       "      <td>0.0</td>\n",
       "    </tr>\n",
       "  </tbody>\n",
       "</table>\n",
       "</div>"
      ],
      "text/plain": [
       "    event.date        country aircraft.damage               make   model  \\\n",
       "5         1979  United States     Substantial  Mcdonnell Douglas     DC9   \n",
       "7         1982  United States     Substantial             Cessna     140   \n",
       "8         1982  United States     Substantial             Cessna    401B   \n",
       "12        1982  United States       Destroyed           Bellanca  17-30A   \n",
       "13        1982  United States       Destroyed             Cessna   R172K   \n",
       "\n",
       "    total.serious.injuries    engine.type  total.fatal.injuries  \\\n",
       "5                        0      Turbo Fan                     0   \n",
       "7                        0  Reciprocating                     0   \n",
       "8                        0  Reciprocating                     0   \n",
       "12                       0  Reciprocating                     0   \n",
       "13                       0  Reciprocating                     1   \n",
       "\n",
       "    total.minor.injuries  total.uninjured weather.condition state  \\\n",
       "5                      1               44               VMC    MA   \n",
       "7                      0                2               VMC    WA   \n",
       "8                      0                2               IMC    NJ   \n",
       "12                     1                0               IMC    LA   \n",
       "13                     0                0               IMC    TX   \n",
       "\n",
       "    fatal.injuries.perc  serious.injuries.perc  minor.injuries.perc  \\\n",
       "5                   0.0                    0.0                  2.2   \n",
       "7                   0.0                    0.0                  0.0   \n",
       "8                   0.0                    0.0                  0.0   \n",
       "12                  0.0                    0.0                100.0   \n",
       "13                100.0                    0.0                  0.0   \n",
       "\n",
       "    uninjured.injuries.perc  \n",
       "5                      97.8  \n",
       "7                     100.0  \n",
       "8                     100.0  \n",
       "12                      0.0  \n",
       "13                      0.0  "
      ]
     },
     "execution_count": 38,
     "metadata": {},
     "output_type": "execute_result"
    }
   ],
   "source": [
    "df_subset2.head()"
   ]
  },
  {
   "cell_type": "code",
   "execution_count": 39,
   "metadata": {},
   "outputs": [
    {
     "data": {
      "text/plain": [
       "(24374, 16)"
      ]
     },
     "execution_count": 39,
     "metadata": {},
     "output_type": "execute_result"
    }
   ],
   "source": [
    "df_subset2.shape"
   ]
  },
  {
   "cell_type": "code",
   "execution_count": 40,
   "metadata": {},
   "outputs": [
    {
     "data": {
      "text/html": [
       "<div>\n",
       "<style scoped>\n",
       "    .dataframe tbody tr th:only-of-type {\n",
       "        vertical-align: middle;\n",
       "    }\n",
       "\n",
       "    .dataframe tbody tr th {\n",
       "        vertical-align: top;\n",
       "    }\n",
       "\n",
       "    .dataframe thead th {\n",
       "        text-align: right;\n",
       "    }\n",
       "</style>\n",
       "<table border=\"1\" class=\"dataframe\">\n",
       "  <thead>\n",
       "    <tr style=\"text-align: right;\">\n",
       "      <th></th>\n",
       "      <th>event.date</th>\n",
       "      <th>total.serious.injuries</th>\n",
       "      <th>total.fatal.injuries</th>\n",
       "      <th>total.minor.injuries</th>\n",
       "      <th>total.uninjured</th>\n",
       "      <th>fatal.injuries.perc</th>\n",
       "      <th>serious.injuries.perc</th>\n",
       "      <th>minor.injuries.perc</th>\n",
       "      <th>uninjured.injuries.perc</th>\n",
       "    </tr>\n",
       "  </thead>\n",
       "  <tbody>\n",
       "    <tr>\n",
       "      <th>count</th>\n",
       "      <td>24374.000000</td>\n",
       "      <td>24374.000000</td>\n",
       "      <td>24374.000000</td>\n",
       "      <td>24374.000000</td>\n",
       "      <td>24374.000000</td>\n",
       "      <td>23475.000000</td>\n",
       "      <td>23475.000000</td>\n",
       "      <td>23475.000000</td>\n",
       "      <td>23475.000000</td>\n",
       "    </tr>\n",
       "    <tr>\n",
       "      <th>mean</th>\n",
       "      <td>2009.485230</td>\n",
       "      <td>0.268893</td>\n",
       "      <td>0.613851</td>\n",
       "      <td>0.213014</td>\n",
       "      <td>6.833224</td>\n",
       "      <td>17.033845</td>\n",
       "      <td>10.790164</td>\n",
       "      <td>9.032950</td>\n",
       "      <td>63.142888</td>\n",
       "    </tr>\n",
       "    <tr>\n",
       "      <th>std</th>\n",
       "      <td>11.499791</td>\n",
       "      <td>2.092648</td>\n",
       "      <td>5.946346</td>\n",
       "      <td>1.601476</td>\n",
       "      <td>33.085672</td>\n",
       "      <td>36.577810</td>\n",
       "      <td>28.903847</td>\n",
       "      <td>26.258984</td>\n",
       "      <td>47.122980</td>\n",
       "    </tr>\n",
       "    <tr>\n",
       "      <th>min</th>\n",
       "      <td>1979.000000</td>\n",
       "      <td>0.000000</td>\n",
       "      <td>0.000000</td>\n",
       "      <td>0.000000</td>\n",
       "      <td>0.000000</td>\n",
       "      <td>0.000000</td>\n",
       "      <td>0.000000</td>\n",
       "      <td>0.000000</td>\n",
       "      <td>0.000000</td>\n",
       "    </tr>\n",
       "    <tr>\n",
       "      <th>25%</th>\n",
       "      <td>2008.000000</td>\n",
       "      <td>0.000000</td>\n",
       "      <td>0.000000</td>\n",
       "      <td>0.000000</td>\n",
       "      <td>0.000000</td>\n",
       "      <td>0.000000</td>\n",
       "      <td>0.000000</td>\n",
       "      <td>0.000000</td>\n",
       "      <td>0.000000</td>\n",
       "    </tr>\n",
       "    <tr>\n",
       "      <th>50%</th>\n",
       "      <td>2012.000000</td>\n",
       "      <td>0.000000</td>\n",
       "      <td>0.000000</td>\n",
       "      <td>0.000000</td>\n",
       "      <td>1.000000</td>\n",
       "      <td>0.000000</td>\n",
       "      <td>0.000000</td>\n",
       "      <td>0.000000</td>\n",
       "      <td>100.000000</td>\n",
       "    </tr>\n",
       "    <tr>\n",
       "      <th>75%</th>\n",
       "      <td>2017.000000</td>\n",
       "      <td>0.000000</td>\n",
       "      <td>0.000000</td>\n",
       "      <td>0.000000</td>\n",
       "      <td>2.000000</td>\n",
       "      <td>0.000000</td>\n",
       "      <td>0.000000</td>\n",
       "      <td>0.000000</td>\n",
       "      <td>100.000000</td>\n",
       "    </tr>\n",
       "    <tr>\n",
       "      <th>max</th>\n",
       "      <td>2022.000000</td>\n",
       "      <td>161.000000</td>\n",
       "      <td>295.000000</td>\n",
       "      <td>200.000000</td>\n",
       "      <td>588.000000</td>\n",
       "      <td>100.000000</td>\n",
       "      <td>100.000000</td>\n",
       "      <td>100.000000</td>\n",
       "      <td>100.000000</td>\n",
       "    </tr>\n",
       "  </tbody>\n",
       "</table>\n",
       "</div>"
      ],
      "text/plain": [
       "         event.date  total.serious.injuries  total.fatal.injuries  \\\n",
       "count  24374.000000            24374.000000          24374.000000   \n",
       "mean    2009.485230                0.268893              0.613851   \n",
       "std       11.499791                2.092648              5.946346   \n",
       "min     1979.000000                0.000000              0.000000   \n",
       "25%     2008.000000                0.000000              0.000000   \n",
       "50%     2012.000000                0.000000              0.000000   \n",
       "75%     2017.000000                0.000000              0.000000   \n",
       "max     2022.000000              161.000000            295.000000   \n",
       "\n",
       "       total.minor.injuries  total.uninjured  fatal.injuries.perc  \\\n",
       "count          24374.000000     24374.000000         23475.000000   \n",
       "mean               0.213014         6.833224            17.033845   \n",
       "std                1.601476        33.085672            36.577810   \n",
       "min                0.000000         0.000000             0.000000   \n",
       "25%                0.000000         0.000000             0.000000   \n",
       "50%                0.000000         1.000000             0.000000   \n",
       "75%                0.000000         2.000000             0.000000   \n",
       "max              200.000000       588.000000           100.000000   \n",
       "\n",
       "       serious.injuries.perc  minor.injuries.perc  uninjured.injuries.perc  \n",
       "count           23475.000000         23475.000000             23475.000000  \n",
       "mean               10.790164             9.032950                63.142888  \n",
       "std                28.903847            26.258984                47.122980  \n",
       "min                 0.000000             0.000000                 0.000000  \n",
       "25%                 0.000000             0.000000                 0.000000  \n",
       "50%                 0.000000             0.000000               100.000000  \n",
       "75%                 0.000000             0.000000               100.000000  \n",
       "max               100.000000           100.000000               100.000000  "
      ]
     },
     "execution_count": 40,
     "metadata": {},
     "output_type": "execute_result"
    }
   ],
   "source": [
    "df_subset2.describe()"
   ]
  },
  {
   "cell_type": "code",
   "execution_count": 41,
   "metadata": {},
   "outputs": [
    {
     "name": "stdout",
     "output_type": "stream",
     "text": [
      "<class 'pandas.core.frame.DataFrame'>\n",
      "Int64Index: 24374 entries, 5 to 90345\n",
      "Data columns (total 16 columns):\n",
      " #   Column                   Non-Null Count  Dtype  \n",
      "---  ------                   --------------  -----  \n",
      " 0   event.date               24374 non-null  int64  \n",
      " 1   country                  24374 non-null  object \n",
      " 2   aircraft.damage          24374 non-null  object \n",
      " 3   make                     24374 non-null  object \n",
      " 4   model                    24374 non-null  object \n",
      " 5   total.serious.injuries   24374 non-null  int64  \n",
      " 6   engine.type              24374 non-null  object \n",
      " 7   total.fatal.injuries     24374 non-null  int64  \n",
      " 8   total.minor.injuries     24374 non-null  int64  \n",
      " 9   total.uninjured          24374 non-null  int64  \n",
      " 10  weather.condition        24374 non-null  object \n",
      " 11  state                    24374 non-null  object \n",
      " 12  fatal.injuries.perc      23475 non-null  float64\n",
      " 13  serious.injuries.perc    23475 non-null  float64\n",
      " 14  minor.injuries.perc      23475 non-null  float64\n",
      " 15  uninjured.injuries.perc  23475 non-null  float64\n",
      "dtypes: float64(4), int64(5), object(7)\n",
      "memory usage: 3.2+ MB\n"
     ]
    }
   ],
   "source": [
    "df_subset2.info()"
   ]
  },
  {
   "cell_type": "code",
   "execution_count": 42,
   "metadata": {},
   "outputs": [
    {
     "data": {
      "text/plain": [
       "event.date                   0\n",
       "country                      0\n",
       "aircraft.damage              0\n",
       "make                         0\n",
       "model                        0\n",
       "total.serious.injuries       0\n",
       "engine.type                  0\n",
       "total.fatal.injuries         0\n",
       "total.minor.injuries         0\n",
       "total.uninjured              0\n",
       "weather.condition            0\n",
       "state                        0\n",
       "fatal.injuries.perc        899\n",
       "serious.injuries.perc      899\n",
       "minor.injuries.perc        899\n",
       "uninjured.injuries.perc    899\n",
       "dtype: int64"
      ]
     },
     "execution_count": 42,
     "metadata": {},
     "output_type": "execute_result"
    }
   ],
   "source": [
    "df_subset2.isna().sum()"
   ]
  },
  {
   "cell_type": "markdown",
   "metadata": {},
   "source": [
    "# Cleaning the 'Make' series/column\n"
   ]
  },
  {
   "cell_type": "code",
   "execution_count": 70,
   "metadata": {
    "scrolled": true
   },
   "outputs": [
    {
     "data": {
      "text/plain": [
       "cessna                            8431\n",
       "piper                             4695\n",
       "beech                             1683\n",
       "boeing                            1304\n",
       "mooney                             416\n",
       "bellanca                           281\n",
       "grumman                            249\n",
       "airbus                             243\n",
       "maule                              232\n",
       "aeronca                            227\n",
       "air tractor                        224\n",
       "cirrus design corp                 220\n",
       "air tractor inc                    219\n",
       "champion                           169\n",
       "luscombe                           163\n",
       "embraer                            153\n",
       "stinson                            145\n",
       "cirrus                             137\n",
       "north american                     118\n",
       "mcdonnell douglas                  112\n",
       "taylorcraft                        110\n",
       "aero commander                     106\n",
       "dehavilland                         95\n",
       "de havilland                        87\n",
       "aviat aircraft inc                  76\n",
       "socata                              75\n",
       "diamond aircraft ind inc            74\n",
       "aviat                               70\n",
       "ercoupe                             66\n",
       "bombardier inc                      65\n",
       "raytheon aircraft company           62\n",
       "rockwell international              61\n",
       "grumman acft eng cor-schweizer      58\n",
       "rockwell                            57\n",
       "ayres                               56\n",
       "douglas                             52\n",
       "american champion aircraft          52\n",
       "bombardier                          50\n",
       "swearingen                          50\n",
       "diamond                             49\n",
       "grumman american avn. corp.         49\n",
       "flight design gmbh                  49\n",
       "learjet                             46\n",
       "waco                                44\n",
       "airbus industrie                    42\n",
       "ayres corporation                   41\n",
       "fairchild                           39\n",
       "grumman american                    37\n",
       "lake                                36\n",
       "mooney aircraft corp.               34\n",
       "Name: make, dtype: int64"
      ]
     },
     "execution_count": 70,
     "metadata": {},
     "output_type": "execute_result"
    }
   ],
   "source": [
    "make_series = df_subset2['make']\n",
    "make_series = make_series.astype(str)\n",
    "make_series = make_series.str.lower()\n",
    "make_series.value_counts().head(50)"
   ]
  },
  {
   "cell_type": "code",
   "execution_count": null,
   "metadata": {},
   "outputs": [],
   "source": [
    "make_series.lower()"
   ]
  },
  {
   "cell_type": "code",
   "execution_count": null,
   "metadata": {},
   "outputs": [],
   "source": [
    "df_subset2.to_csv('../Data/subset2.csv')"
   ]
  },
  {
   "cell_type": "markdown",
   "metadata": {},
   "source": [
    "# Exploratory Visuals: Scatter Plots\n"
   ]
  },
  {
   "cell_type": "code",
   "execution_count": null,
   "metadata": {},
   "outputs": [],
   "source": [
    "# columns haven't been cleaned yet\n",
    "\n",
    "import matplotlib.pyplot as plt\n",
    "\n",
    "def graph(independent, dependent):\n",
    "    fig, ax = plt.subplots()\n",
    "    ax.bar(independent, dependent)\n",
    "    ax.set_xlabel(independent)\n",
    "    ax.set_ylabel(dependent)\n",
    "\n",
    "graph(df_subset['aircraft.category'], df_subset['total.fatal.injuries'])"
   ]
  },
  {
   "cell_type": "code",
   "execution_count": null,
   "metadata": {},
   "outputs": [],
   "source": []
  },
  {
   "cell_type": "code",
   "execution_count": null,
   "metadata": {},
   "outputs": [],
   "source": []
  },
  {
   "cell_type": "code",
   "execution_count": null,
   "metadata": {},
   "outputs": [],
   "source": []
  }
 ],
 "metadata": {
  "kernelspec": {
   "display_name": "Python 3",
   "language": "python",
   "name": "python3"
  },
  "language_info": {
   "codemirror_mode": {
    "name": "ipython",
    "version": 3
   },
   "file_extension": ".py",
   "mimetype": "text/x-python",
   "name": "python",
   "nbconvert_exporter": "python",
   "pygments_lexer": "ipython3",
   "version": "3.8.5"
  }
 },
 "nbformat": 4,
 "nbformat_minor": 4
}
