{
 "cells": [
  {
   "cell_type": "raw",
   "metadata": {},
   "source": [
    "# Markdown"
   ]
  },
  {
   "cell_type": "markdown",
   "metadata": {},
   "source": [
    "# Load in Data"
   ]
  },
  {
   "cell_type": "code",
   "execution_count": null,
   "metadata": {},
   "outputs": [],
   "source": [
    "# Load in data\n",
    "import pandas as pd\n",
    "df = pd.read_csv('../Data/Aviation_Data.csv', parse_dates=['Event.Date', 'Publication.Date'])\n",
    "df.head()"
   ]
  },
  {
   "cell_type": "markdown",
   "metadata": {},
   "source": [
    "# Data Description"
   ]
  },
  {
   "cell_type": "code",
   "execution_count": null,
   "metadata": {},
   "outputs": [],
   "source": [
    "df['Number.of.Engines'].value_counts()"
   ]
  },
  {
   "cell_type": "code",
   "execution_count": null,
   "metadata": {},
   "outputs": [],
   "source": [
    "df.shape"
   ]
  },
  {
   "cell_type": "code",
   "execution_count": null,
   "metadata": {},
   "outputs": [],
   "source": [
    "df.describe(datetime_is_numeric=True)"
   ]
  },
  {
   "cell_type": "code",
   "execution_count": null,
   "metadata": {},
   "outputs": [],
   "source": [
    "df.info()"
   ]
  },
  {
   "cell_type": "code",
   "execution_count": null,
   "metadata": {},
   "outputs": [],
   "source": [
    "df.isna().sum()"
   ]
  },
  {
   "cell_type": "code",
   "execution_count": null,
   "metadata": {},
   "outputs": [],
   "source": [
    "df['Air.carrier'].value_counts()"
   ]
  },
  {
   "cell_type": "code",
   "execution_count": null,
   "metadata": {},
   "outputs": [],
   "source": [
    "df['Purpose.of.flight'].value_counts()"
   ]
  },
  {
   "cell_type": "code",
   "execution_count": null,
   "metadata": {},
   "outputs": [],
   "source": [
    "df['FAR.Description'].value_counts()"
   ]
  },
  {
   "cell_type": "code",
   "execution_count": null,
   "metadata": {},
   "outputs": [],
   "source": [
    "df['Schedule'].value_counts()"
   ]
  },
  {
   "cell_type": "code",
   "execution_count": null,
   "metadata": {},
   "outputs": [],
   "source": [
    "df['Report.Status'].value_counts()"
   ]
  },
  {
   "cell_type": "markdown",
   "metadata": {},
   "source": [
    "# Making Subset"
   ]
  },
  {
   "cell_type": "code",
   "execution_count": null,
   "metadata": {},
   "outputs": [],
   "source": [
    "df_subset = df[['Event.Date', 'Location', 'Country', 'Number.of.Engines',\n",
    "                'Aircraft.damage', 'Aircraft.Category', 'Make', 'Model', \n",
    "                'Amateur.Built', 'Engine.Type', 'FAR.Description',\n",
    "                'Total.Fatal.Injuries', 'Total.Minor.Injuries', 'Total.Uninjured', 'Total.Serious.Injuries', \n",
    "                'Weather.Condition']]\n"
   ]
  },
  {
   "cell_type": "code",
   "execution_count": null,
   "metadata": {},
   "outputs": [],
   "source": [
    "df_subset = df_subset.rename(columns = lambda x: x.lower())"
   ]
  },
  {
   "cell_type": "code",
   "execution_count": null,
   "metadata": {},
   "outputs": [],
   "source": [
    "# Keeping only airplanes\n",
    "df_subset = df_subset.loc[df_subset['aircraft.category'] == 'Airplane']"
   ]
  },
  {
   "cell_type": "code",
   "execution_count": null,
   "metadata": {},
   "outputs": [],
   "source": [
    "# Keeping only non-amateur built\n",
    "df_subset = df_subset.loc[df_subset['amateur.built'] == 'No']"
   ]
  },
  {
   "cell_type": "code",
   "execution_count": null,
   "metadata": {},
   "outputs": [],
   "source": [
    "# Dropping amateur built and aircraft category\n",
    "df_subset = df_subset[['event.date', 'location', 'country', 'number.of.engines',\n",
    "                'aircraft.damage', 'make', 'model', 'total.serious.injuries',\n",
    "                'engine.type', 'total.fatal.injuries', 'total.minor.injuries', 'total.uninjured', \n",
    "                'weather.condition']]"
   ]
  },
  {
   "cell_type": "code",
   "execution_count": null,
   "metadata": {},
   "outputs": [],
   "source": [
    "# Keeping only the year (first 4 characters) from event.date\n",
    "df_subset = df_subset.rename(columns = lambda x: x.lower())\n",
    "df_subset['event.date'] = pd.to_datetime(df_subset['event.date']).dt.year\n"
   ]
  },
  {
   "cell_type": "code",
   "execution_count": null,
   "metadata": {},
   "outputs": [],
   "source": [
    "# Keeping only the state abbreviations from 'location' column into a new column\n",
    "df_subset['state'] = df_subset['location'].str.split(\",\").str[1]\n",
    "df_subset = df_subset.drop(columns=['location'])"
   ]
  },
  {
   "cell_type": "code",
   "execution_count": null,
   "metadata": {},
   "outputs": [],
   "source": [
    "# Cleaning typos from weather.condition. Same value entered differently\n",
    "replace_dict = {'Unk':'UNK'}\n",
    "df_subset['weather.condition'] = df_subset['weather.condition'].replace(replace_dict)\n",
    "df_subset['weather.condition'].value_counts()"
   ]
  },
  {
   "cell_type": "code",
   "execution_count": null,
   "metadata": {},
   "outputs": [],
   "source": [
    "# Cleaning typos from engine.type. Same value entered differently\n",
    "df_subset['engine.type'].value_counts()"
   ]
  },
  {
   "cell_type": "code",
   "execution_count": null,
   "metadata": {},
   "outputs": [],
   "source": [
    "replace_dict3 = {'UNK':'Unknown'}\n",
    "df_subset['engine.type'] = df_subset['engine.type'].replace(replace_dict3)\n",
    "df_subset['engine.type'].value_counts()"
   ]
  },
  {
   "cell_type": "code",
   "execution_count": null,
   "metadata": {},
   "outputs": [],
   "source": [
    "df_subset.shape"
   ]
  },
  {
   "cell_type": "code",
   "execution_count": null,
   "metadata": {},
   "outputs": [],
   "source": [
    "df_subset.isna().sum()"
   ]
  },
  {
   "cell_type": "code",
   "execution_count": null,
   "metadata": {},
   "outputs": [],
   "source": [
    "df_subset.dtypes"
   ]
  },
  {
   "cell_type": "code",
   "execution_count": null,
   "metadata": {},
   "outputs": [],
   "source": [
    "df_subset.describe()"
   ]
  },
  {
   "cell_type": "code",
   "execution_count": null,
   "metadata": {},
   "outputs": [],
   "source": [
    "df_subset.info()"
   ]
  },
  {
   "cell_type": "code",
   "execution_count": null,
   "metadata": {},
   "outputs": [],
   "source": [
    "df_subset['number.of.engines'].value_counts()"
   ]
  },
  {
   "cell_type": "code",
   "execution_count": null,
   "metadata": {},
   "outputs": [],
   "source": []
  },
  {
   "cell_type": "markdown",
   "metadata": {},
   "source": [
    "# Dealing with Nulls\n"
   ]
  },
  {
   "cell_type": "code",
   "execution_count": null,
   "metadata": {},
   "outputs": [],
   "source": [
    "# Filling the NaN's in the 4 injuries columns with 0's\n",
    "\n",
    "df_subset['total.serious.injuries'].fillna(0, inplace=True)\n",
    "df_subset['total.fatal.injuries'].fillna(0, inplace=True)\n",
    "df_subset['total.minor.injuries'].fillna(0, inplace=True)\n",
    "df_subset['total.uninjured'].fillna(0, inplace=True)\n",
    "\n",
    "df_subset.isna().sum()"
   ]
  },
  {
   "cell_type": "code",
   "execution_count": null,
   "metadata": {},
   "outputs": [],
   "source": [
    "# Dropping rows in columns that have very few nulls\n",
    "\n",
    "df_subset2 = df_subset.dropna(subset=['country', 'make', 'model', 'state'])\n",
    "df_subset2.isna().sum()\n"
   ]
  },
  {
   "cell_type": "code",
   "execution_count": null,
   "metadata": {},
   "outputs": [],
   "source": [
    "df_subset2.shape"
   ]
  },
  {
   "cell_type": "code",
   "execution_count": null,
   "metadata": {},
   "outputs": [],
   "source": [
    "# Replacing nulls in aircraft.damage column\n",
    "df_subset2['aircraft.damage'].value_counts()"
   ]
  },
  {
   "cell_type": "code",
   "execution_count": null,
   "metadata": {},
   "outputs": [],
   "source": [
    "df_subset2['aircraft.damage'] = df_subset2['aircraft.damage'].fillna('N/A')"
   ]
  },
  {
   "cell_type": "code",
   "execution_count": null,
   "metadata": {},
   "outputs": [],
   "source": [
    "# Combining 'unknown's in aircraft.damage with n/a\n",
    "replace_dict2 = {'Unknown':'N/A'}\n",
    "df_subset2['aircraft.damage'] = df_subset2['aircraft.damage'].replace(replace_dict2)\n",
    "df_subset2['aircraft.damage'].value_counts()"
   ]
  },
  {
   "cell_type": "code",
   "execution_count": null,
   "metadata": {},
   "outputs": [],
   "source": [
    "df_subset2.isna().sum()"
   ]
  },
  {
   "cell_type": "code",
   "execution_count": null,
   "metadata": {},
   "outputs": [],
   "source": [
    "# Replacing nulls in engine.type column\n",
    "df_subset2['engine.type'].value_counts()"
   ]
  },
  {
   "cell_type": "code",
   "execution_count": null,
   "metadata": {},
   "outputs": [],
   "source": [
    "df_subset2['engine.type'] = df_subset2['engine.type'].fillna('Unknown')"
   ]
  },
  {
   "cell_type": "code",
   "execution_count": null,
   "metadata": {},
   "outputs": [],
   "source": [
    "df_subset2.isna().sum()"
   ]
  },
  {
   "cell_type": "code",
   "execution_count": null,
   "metadata": {},
   "outputs": [],
   "source": [
    "# Replacing nulls in weather.condition column\n",
    "df_subset2['weather.condition'].value_counts()\n"
   ]
  },
  {
   "cell_type": "code",
   "execution_count": null,
   "metadata": {},
   "outputs": [],
   "source": [
    "df_subset2['weather.condition'] = df_subset2['weather.condition'].fillna('N/A')"
   ]
  },
  {
   "cell_type": "code",
   "execution_count": null,
   "metadata": {},
   "outputs": [],
   "source": [
    "df_subset2.isna().sum()"
   ]
  },
  {
   "cell_type": "code",
   "execution_count": null,
   "metadata": {},
   "outputs": [],
   "source": []
  },
  {
   "cell_type": "code",
   "execution_count": null,
   "metadata": {},
   "outputs": [],
   "source": [
    "# dealing with number.of.engines nulls\n",
    "df_subset2['number.of.engines'].median()"
   ]
  },
  {
   "cell_type": "code",
   "execution_count": null,
   "metadata": {},
   "outputs": [],
   "source": [
    "df_subset2['number.of.engines'] = df_subset2['number.of.engines'].fillna(df_subset2['number.of.engines'].median())"
   ]
  },
  {
   "cell_type": "code",
   "execution_count": null,
   "metadata": {},
   "outputs": [],
   "source": [
    "df_subset2['number.of.engines'] = df_subset2['number.of.engines'].astype(int)\n"
   ]
  },
  {
   "cell_type": "code",
   "execution_count": null,
   "metadata": {},
   "outputs": [],
   "source": [
    "df_subset2['number.of.engines'].value_counts()"
   ]
  },
  {
   "cell_type": "code",
   "execution_count": null,
   "metadata": {},
   "outputs": [],
   "source": []
  },
  {
   "cell_type": "markdown",
   "metadata": {},
   "source": []
  },
  {
   "cell_type": "markdown",
   "metadata": {},
   "source": [
    "# Changing injuries str columns to int columns"
   ]
  },
  {
   "cell_type": "code",
   "execution_count": null,
   "metadata": {},
   "outputs": [],
   "source": [
    "df_subset2.dtypes"
   ]
  },
  {
   "cell_type": "code",
   "execution_count": null,
   "metadata": {},
   "outputs": [],
   "source": [
    "df_subset2['total.serious.injuries'] = df_subset2['total.serious.injuries'].astype(int)\n",
    "df_subset2['total.fatal.injuries'] = df_subset2['total.fatal.injuries'].astype(int)\n",
    "df_subset2['total.minor.injuries'] = df_subset2['total.minor.injuries'].astype(int)\n",
    "df_subset2['total.uninjured'] = df_subset2['total.uninjured'].astype(int)\n"
   ]
  },
  {
   "cell_type": "code",
   "execution_count": null,
   "metadata": {},
   "outputs": [],
   "source": [
    "df_subset2.dtypes"
   ]
  },
  {
   "cell_type": "markdown",
   "metadata": {},
   "source": [
    "# Combining serious and minor injuries columns into 'nonfatal' columns"
   ]
  },
  {
   "cell_type": "code",
   "execution_count": null,
   "metadata": {},
   "outputs": [],
   "source": [
    "df_subset2['total.nonfatal.injuries'] = df_subset2['total.minor.injuries'] + df_subset2['total.serious.injuries']"
   ]
  },
  {
   "cell_type": "code",
   "execution_count": null,
   "metadata": {},
   "outputs": [],
   "source": [
    "df_subset2 = df_subset2[['event.date', 'country', 'state', 'number.of.engines',\n",
    "                'aircraft.damage', 'make', 'model', 'engine.type', 'total.fatal.injuries', \n",
    "                 'total.nonfatal.injuries',\n",
    "                'total.uninjured', \n",
    "                'weather.condition']]\n",
    "df_subset2.info()"
   ]
  },
  {
   "cell_type": "markdown",
   "metadata": {},
   "source": [
    "# Calculating/creating new injuries percentage columns"
   ]
  },
  {
   "cell_type": "code",
   "execution_count": null,
   "metadata": {},
   "outputs": [],
   "source": [
    "# Turning injury columns into percentage of total passengers\n",
    "df_subset2['fatal.injuries.perc'] = round(((df_subset2['total.fatal.injuries'] / (df_subset2['total.fatal.injuries'] + \n",
    "                                                                             df_subset2['total.nonfatal.injuries'] + \n",
    "                                                                             df_subset2['total.uninjured'])) * 100), 1)\n",
    "df_subset2['nonfatal.injuries.perc'] = round(((df_subset2['total.nonfatal.injuries'] / (df_subset2['total.fatal.injuries'] + \n",
    "                                                                             df_subset2['total.nonfatal.injuries'] + \n",
    "                                                                             df_subset2['total.uninjured'])) * 100), 1)\n",
    "df_subset2['uninjured.perc'] = round(((df_subset2['total.uninjured'] / (df_subset2['total.fatal.injuries'] + \n",
    "                                                                             df_subset2['total.nonfatal.injuries'] + \n",
    "                                                                             df_subset2['total.uninjured'])) * 100), 1)"
   ]
  },
  {
   "cell_type": "code",
   "execution_count": null,
   "metadata": {},
   "outputs": [],
   "source": [
    "df_subset2.head()"
   ]
  },
  {
   "cell_type": "code",
   "execution_count": null,
   "metadata": {},
   "outputs": [],
   "source": []
  },
  {
   "cell_type": "code",
   "execution_count": null,
   "metadata": {},
   "outputs": [],
   "source": [
    "df_subset2.shape"
   ]
  },
  {
   "cell_type": "code",
   "execution_count": null,
   "metadata": {},
   "outputs": [],
   "source": [
    "df_subset2.describe()"
   ]
  },
  {
   "cell_type": "code",
   "execution_count": null,
   "metadata": {},
   "outputs": [],
   "source": [
    "df_subset2.info()"
   ]
  },
  {
   "cell_type": "code",
   "execution_count": null,
   "metadata": {},
   "outputs": [],
   "source": [
    "df_subset2.info()"
   ]
  },
  {
   "cell_type": "code",
   "execution_count": null,
   "metadata": {},
   "outputs": [],
   "source": [
    "df_subset2.isna().sum()"
   ]
  },
  {
   "cell_type": "code",
   "execution_count": null,
   "metadata": {},
   "outputs": [],
   "source": [
    "df_subset2['fatal.injuries.perc'].fillna(0, inplace=True)\n",
    "df_subset2['nonfatal.injuries.perc'].fillna(0, inplace=True)\n",
    "df_subset2['uninjured.perc'].fillna(0, inplace=True)"
   ]
  },
  {
   "cell_type": "code",
   "execution_count": null,
   "metadata": {},
   "outputs": [],
   "source": [
    "df_subset2.isna().sum()"
   ]
  },
  {
   "cell_type": "code",
   "execution_count": null,
   "metadata": {},
   "outputs": [],
   "source": [
    "df_subset2.info()"
   ]
  },
  {
   "cell_type": "code",
   "execution_count": null,
   "metadata": {},
   "outputs": [],
   "source": [
    "df_subset2['fatal.injuries.perc'] = df_subset2['fatal.injuries.perc'].astype(int)\n",
    "df_subset2['nonfatal.injuries.perc'] = df_subset2['nonfatal.injuries.perc'].astype(int)\n",
    "df_subset2['uninjured.perc'] = df_subset2['uninjured.perc'].astype(int)"
   ]
  },
  {
   "cell_type": "code",
   "execution_count": null,
   "metadata": {},
   "outputs": [],
   "source": [
    "df_subset2.info()"
   ]
  },
  {
   "cell_type": "code",
   "execution_count": null,
   "metadata": {},
   "outputs": [],
   "source": [
    "df_subset2 = df_subset2[['event.date', 'country', 'state', 'number.of.engines',\n",
    "                'aircraft.damage', 'make', 'model', 'engine.type',  \n",
    "                 'fatal.injuries.perc', 'nonfatal.injuries.perc', 'uninjured.perc', \n",
    "                'weather.condition']]\n",
    "df_subset2.info()"
   ]
  },
  {
   "cell_type": "markdown",
   "metadata": {},
   "source": [
    "# Translating aircraft.damage into numerical scale"
   ]
  },
  {
   "cell_type": "code",
   "execution_count": null,
   "metadata": {},
   "outputs": [],
   "source": [
    "df_subset2['aircraft.damage'].value_counts()"
   ]
  },
  {
   "cell_type": "code",
   "execution_count": null,
   "metadata": {},
   "outputs": [],
   "source": [
    "def aircraft_damage_numbers(y):\n",
    "    if y == \"Substantial\":\n",
    "        return 3\n",
    "    elif y == \"Destroyed\":\n",
    "        return 2\n",
    "    elif y == \"Minor\":\n",
    "        return 1\n",
    "    else:\n",
    "        return 0"
   ]
  },
  {
   "cell_type": "code",
   "execution_count": null,
   "metadata": {},
   "outputs": [],
   "source": [
    "df_subset2['aircraft.damage.scale'] = df_subset2['aircraft.damage'].map(aircraft_damage_numbers)\n",
    "df_subset2['aircraft.damage.scale'].value_counts()"
   ]
  },
  {
   "cell_type": "markdown",
   "metadata": {},
   "source": [
    "# Cleaning the 'Make' series as a separate df\n"
   ]
  },
  {
   "cell_type": "code",
   "execution_count": null,
   "metadata": {
    "scrolled": true
   },
   "outputs": [],
   "source": [
    "df_subset2['make'] = df_subset2['make'].astype(str).str.lower()\n",
    "pd.set_option('display.max_rows', None)\n",
    "df_subset2['make'].value_counts().head(50)"
   ]
  },
  {
   "cell_type": "code",
   "execution_count": null,
   "metadata": {},
   "outputs": [],
   "source": []
  },
  {
   "cell_type": "code",
   "execution_count": null,
   "metadata": {},
   "outputs": [],
   "source": [
    "def typos(x):\n",
    "    if \"air tractor\" in x:\n",
    "        return \"air tractor\"\n",
    "    elif \"cessna\" in x:\n",
    "        return \"cessna\"\n",
    "    elif \"piper\" in x:\n",
    "        return \"piper\"\n",
    "    elif \"beech\" in x:\n",
    "        return \"beech\"\n",
    "    elif \"boeing\" in x:\n",
    "        return \"boeing\"\n",
    "    elif \"mooney\" in x:\n",
    "        return \"mooney\"\n",
    "    elif \"grumman\" in x:\n",
    "        return \"grumman\"\n",
    "    elif \"airbus\" in x:\n",
    "        return \"airbus\"\n",
    "    elif \"aeronca\" in x:\n",
    "        return \"aeronca\"\n",
    "    elif \"cirrus\" in x:\n",
    "        return \"cirrus\"\n",
    "    elif \"champion\" in x:\n",
    "        return \"american champion\"\n",
    "    elif \"embraer\" in x:\n",
    "        return \"embraer\"\n",
    "    elif \"havilland\" in x:\n",
    "        return \"dehavilland\"\n",
    "    elif \"aviat\" in x:\n",
    "        return \"aviat\"\n",
    "    elif \"diamond\" in x:\n",
    "        return \"diamond\"\n",
    "    elif \"ercoupe\" in x:\n",
    "        return \"ercoupe\"\n",
    "    else:\n",
    "        return x\n",
    "    \n",
    "df_subset2['make'] = df_subset2['make'].map(typos)"
   ]
  },
  {
   "cell_type": "markdown",
   "metadata": {},
   "source": [
    "# Re-indexing and saving the df_subset2 "
   ]
  },
  {
   "cell_type": "code",
   "execution_count": null,
   "metadata": {},
   "outputs": [],
   "source": [
    "df_subset2.to_csv('../Data/subset2.csv')"
   ]
  },
  {
   "cell_type": "markdown",
   "metadata": {},
   "source": [
    "# New dataset with just makes with over 100 rows"
   ]
  },
  {
   "cell_type": "code",
   "execution_count": null,
   "metadata": {},
   "outputs": [],
   "source": [
    "make_value_counts = df_subset2['make'].value_counts()"
   ]
  },
  {
   "cell_type": "code",
   "execution_count": null,
   "metadata": {},
   "outputs": [],
   "source": [
    "make_over_100 = make_value_counts.loc[make_value_counts > 100]"
   ]
  },
  {
   "cell_type": "code",
   "execution_count": null,
   "metadata": {},
   "outputs": [],
   "source": [
    "make_over_100 = list(make_over_100.index)"
   ]
  },
  {
   "cell_type": "code",
   "execution_count": null,
   "metadata": {},
   "outputs": [],
   "source": [
    "make_over_100"
   ]
  },
  {
   "cell_type": "code",
   "execution_count": null,
   "metadata": {},
   "outputs": [],
   "source": [
    "df_subset2_makes = df_subset2.loc[df_subset2['make'].isin(make_over_100)]\n",
    "df_subset2_makes.head()"
   ]
  },
  {
   "cell_type": "code",
   "execution_count": null,
   "metadata": {},
   "outputs": [],
   "source": [
    "df_subset2_makes.to_csv('../Data/df_subset2_makes.csv')"
   ]
  },
  {
   "cell_type": "code",
   "execution_count": null,
   "metadata": {},
   "outputs": [],
   "source": [
    "df_subset2_makes.info()"
   ]
  },
  {
   "cell_type": "markdown",
   "metadata": {},
   "source": [
    "# Groupby Experiments"
   ]
  },
  {
   "cell_type": "code",
   "execution_count": null,
   "metadata": {},
   "outputs": [],
   "source": [
    "df_subset2.groupby('event.date').mean()"
   ]
  },
  {
   "cell_type": "code",
   "execution_count": null,
   "metadata": {},
   "outputs": [],
   "source": [
    "df_subset2.groupby('country').mean()"
   ]
  },
  {
   "cell_type": "code",
   "execution_count": null,
   "metadata": {},
   "outputs": [],
   "source": [
    "df_subset2.groupby('state').mean()"
   ]
  },
  {
   "cell_type": "code",
   "execution_count": null,
   "metadata": {},
   "outputs": [],
   "source": [
    "df_subset2.groupby('number.of.engines').mean()"
   ]
  },
  {
   "cell_type": "code",
   "execution_count": null,
   "metadata": {},
   "outputs": [],
   "source": [
    "df_subset2['number.of.engines'].value_counts()"
   ]
  },
  {
   "cell_type": "code",
   "execution_count": null,
   "metadata": {},
   "outputs": [],
   "source": [
    "df_subset2_makes.groupby('make').mean()"
   ]
  },
  {
   "cell_type": "code",
   "execution_count": null,
   "metadata": {},
   "outputs": [],
   "source": [
    "df_subset2.groupby('engine.type').mean()"
   ]
  },
  {
   "cell_type": "code",
   "execution_count": null,
   "metadata": {},
   "outputs": [],
   "source": [
    "df_subset2.groupby('weather.condition').mean()"
   ]
  },
  {
   "cell_type": "code",
   "execution_count": null,
   "metadata": {},
   "outputs": [],
   "source": [
    "df_subset2['aircraft.damage'].value_counts()"
   ]
  },
  {
   "cell_type": "code",
   "execution_count": null,
   "metadata": {},
   "outputs": [],
   "source": [
    "df_subset2['number.of.engines'].value_counts()"
   ]
  },
  {
   "cell_type": "markdown",
   "metadata": {},
   "source": [
    "# Exploratory Visuals: Scatter Plots\n"
   ]
  },
  {
   "cell_type": "code",
   "execution_count": null,
   "metadata": {
    "scrolled": true
   },
   "outputs": [],
   "source": [
    "number_of_categories = 5\n",
    "\n",
    "import seaborn as sns\n",
    "import matplotlib.pyplot as plt\n",
    "\n",
    "def plot_top_n_categories(df, column, title, ax):\n",
    "    top_categories = df[column].value_counts().head(number_of_categories)\n",
    "    sns.barplot(x=top_categories.values, y=top_categories.index, ax=ax)\n",
    "    ax.set_title(title)\n",
    "    ax.set_xlabel('Count')\n",
    "    ax.set_ylabel(column)\n",
    "\n",
    "\n",
    "fig, axes = plt.subplots(3, 1, figsize=(12, 18))\n",
    "plt.subplots_adjust(hspace=0.5)\n",
    "\n",
    "plot_top_n_categories(df_subset2_makes, 'make', 'Top 5 Aircraft Makes in Incidents', axes[0])\n",
    "\n",
    "plot_top_n_categories(df_subset2_makes, 'model', 'Top 5 Aircraft Models in Incidents', axes[1])\n",
    "\n",
    "plot_top_n_categories(df_subset2_makes, 'engine.type', 'Top 5 Engine Types in Incidents', axes[2])\n",
    "\n",
    "plt.show()"
   ]
  },
  {
   "cell_type": "code",
   "execution_count": null,
   "metadata": {},
   "outputs": [],
   "source": []
  },
  {
   "cell_type": "code",
   "execution_count": null,
   "metadata": {},
   "outputs": [],
   "source": []
  },
  {
   "cell_type": "code",
   "execution_count": null,
   "metadata": {},
   "outputs": [],
   "source": []
  }
 ],
 "metadata": {
  "kernelspec": {
   "display_name": "Python 3",
   "language": "python",
   "name": "python3"
  },
  "language_info": {
   "codemirror_mode": {
    "name": "ipython",
    "version": 3
   },
   "file_extension": ".py",
   "mimetype": "text/x-python",
   "name": "python",
   "nbconvert_exporter": "python",
   "pygments_lexer": "ipython3",
   "version": "3.8.5"
  }
 },
 "nbformat": 4,
 "nbformat_minor": 4
}
